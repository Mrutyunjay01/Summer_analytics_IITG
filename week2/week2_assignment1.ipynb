{
  "nbformat": 4,
  "nbformat_minor": 0,
  "metadata": {
    "colab": {
      "name": "ChicagoCrimeDetection.ipynb",
      "provenance": [],
      "mount_file_id": "12WYjO5f-iffOsveWYblI6wQneXH1HQZI",
      "authorship_tag": "ABX9TyN5ySMFvNMYK3DYLeordLoj",
      "include_colab_link": true
    },
    "kernelspec": {
      "name": "python3",
      "display_name": "Python 3"
    }
  },
  "cells": [
    {
      "cell_type": "markdown",
      "metadata": {
        "id": "view-in-github",
        "colab_type": "text"
      },
      "source": [
        "<a href=\"https://colab.research.google.com/github/Mrutyunjay01/Summer_analytics_IITG/blob/master/week2/week2_assignment1.ipynb\" target=\"_parent\"><img src=\"https://colab.research.google.com/assets/colab-badge.svg\" alt=\"Open In Colab\"/></a>"
      ]
    },
    {
      "cell_type": "code",
      "metadata": {
        "id": "RudXUeI8IE68",
        "colab_type": "code",
        "colab": {}
      },
      "source": [
        "import pandas as pd"
      ],
      "execution_count": 0,
      "outputs": []
    },
    {
      "cell_type": "code",
      "metadata": {
        "id": "S6akoCghI-lT",
        "colab_type": "code",
        "colab": {
          "base_uri": "https://localhost:8080/",
          "height": 50
        },
        "outputId": "307cf489-ecaf-4a33-fdd4-c7c3db0139ce"
      },
      "source": [
        "df = pd.read_csv('/content/drive/My Drive/Copy of Chicago_Crime_Detective.csv')"
      ],
      "execution_count": 106,
      "outputs": [
        {
          "output_type": "stream",
          "text": [
            "/usr/local/lib/python3.6/dist-packages/IPython/core/interactiveshell.py:2718: DtypeWarning: Columns (7,8) have mixed types.Specify dtype option on import or set low_memory=False.\n",
            "  interactivity=interactivity, compiler=compiler, result=result)\n"
          ],
          "name": "stderr"
        }
      ]
    },
    {
      "cell_type": "code",
      "metadata": {
        "id": "VTmtVkrTJYzV",
        "colab_type": "code",
        "colab": {
          "base_uri": "https://localhost:8080/",
          "height": 195
        },
        "outputId": "b4cd4ec1-d5dd-476d-9e29-9e700e21346a"
      },
      "source": [
        "df.head()"
      ],
      "execution_count": 3,
      "outputs": [
        {
          "output_type": "execute_result",
          "data": {
            "text/html": [
              "<div>\n",
              "<style scoped>\n",
              "    .dataframe tbody tr th:only-of-type {\n",
              "        vertical-align: middle;\n",
              "    }\n",
              "\n",
              "    .dataframe tbody tr th {\n",
              "        vertical-align: top;\n",
              "    }\n",
              "\n",
              "    .dataframe thead th {\n",
              "        text-align: right;\n",
              "    }\n",
              "</style>\n",
              "<table border=\"1\" class=\"dataframe\">\n",
              "  <thead>\n",
              "    <tr style=\"text-align: right;\">\n",
              "      <th></th>\n",
              "      <th>Unnamed: 0</th>\n",
              "      <th>ID</th>\n",
              "      <th>Date</th>\n",
              "      <th>LocationDescription</th>\n",
              "      <th>Arrest</th>\n",
              "      <th>Domestic</th>\n",
              "      <th>Beat</th>\n",
              "      <th>District</th>\n",
              "      <th>CommunityArea</th>\n",
              "      <th>Year</th>\n",
              "    </tr>\n",
              "  </thead>\n",
              "  <tbody>\n",
              "    <tr>\n",
              "      <th>0</th>\n",
              "      <td>0</td>\n",
              "      <td>8951354</td>\n",
              "      <td>12/31/12 23:15</td>\n",
              "      <td>STREET</td>\n",
              "      <td>False</td>\n",
              "      <td>False</td>\n",
              "      <td>623</td>\n",
              "      <td>6</td>\n",
              "      <td>69</td>\n",
              "      <td>2012</td>\n",
              "    </tr>\n",
              "    <tr>\n",
              "      <th>1</th>\n",
              "      <td>1</td>\n",
              "      <td>8951141</td>\n",
              "      <td>12/31/12 22:00</td>\n",
              "      <td>STREET</td>\n",
              "      <td>False</td>\n",
              "      <td>False</td>\n",
              "      <td>1213</td>\n",
              "      <td>12</td>\n",
              "      <td>24</td>\n",
              "      <td>2012</td>\n",
              "    </tr>\n",
              "    <tr>\n",
              "      <th>2</th>\n",
              "      <td>2</td>\n",
              "      <td>8952745</td>\n",
              "      <td>12/31/12 22:00</td>\n",
              "      <td>RESIDENTIAL YARD (FRONT/BACK)</td>\n",
              "      <td>False</td>\n",
              "      <td>False</td>\n",
              "      <td>1622</td>\n",
              "      <td>16</td>\n",
              "      <td>11</td>\n",
              "      <td>2012</td>\n",
              "    </tr>\n",
              "    <tr>\n",
              "      <th>3</th>\n",
              "      <td>3</td>\n",
              "      <td>8952223</td>\n",
              "      <td>12/31/12 22:00</td>\n",
              "      <td>STREET</td>\n",
              "      <td>False</td>\n",
              "      <td>False</td>\n",
              "      <td>724</td>\n",
              "      <td>7</td>\n",
              "      <td>67</td>\n",
              "      <td>2012</td>\n",
              "    </tr>\n",
              "    <tr>\n",
              "      <th>4</th>\n",
              "      <td>4</td>\n",
              "      <td>8951608</td>\n",
              "      <td>12/31/12 21:30</td>\n",
              "      <td>STREET</td>\n",
              "      <td>False</td>\n",
              "      <td>False</td>\n",
              "      <td>211</td>\n",
              "      <td>2</td>\n",
              "      <td>35</td>\n",
              "      <td>2012</td>\n",
              "    </tr>\n",
              "  </tbody>\n",
              "</table>\n",
              "</div>"
            ],
            "text/plain": [
              "   Unnamed: 0       ID            Date  ... District  CommunityArea  Year\n",
              "0           0  8951354  12/31/12 23:15  ...        6             69  2012\n",
              "1           1  8951141  12/31/12 22:00  ...       12             24  2012\n",
              "2           2  8952745  12/31/12 22:00  ...       16             11  2012\n",
              "3           3  8952223  12/31/12 22:00  ...        7             67  2012\n",
              "4           4  8951608  12/31/12 21:30  ...        2             35  2012\n",
              "\n",
              "[5 rows x 10 columns]"
            ]
          },
          "metadata": {
            "tags": []
          },
          "execution_count": 3
        }
      ]
    },
    {
      "cell_type": "code",
      "metadata": {
        "id": "BfNtPochJapf",
        "colab_type": "code",
        "colab": {
          "base_uri": "https://localhost:8080/",
          "height": 101
        },
        "outputId": "9e9a0800-a693-40b5-e4d4-71fd94905732"
      },
      "source": [
        "df.Date.describe()"
      ],
      "execution_count": 5,
      "outputs": [
        {
          "output_type": "execute_result",
          "data": {
            "text/plain": [
              "count           191641\n",
              "unique          131680\n",
              "top       5/16/08 0:00\n",
              "freq                11\n",
              "Name: Date, dtype: object"
            ]
          },
          "metadata": {
            "tags": []
          },
          "execution_count": 5
        }
      ]
    },
    {
      "cell_type": "code",
      "metadata": {
        "id": "uVlmNkG-Jgjx",
        "colab_type": "code",
        "colab": {
          "base_uri": "https://localhost:8080/",
          "height": 134
        },
        "outputId": "ddf94dd2-8ab8-46d4-85ae-91aa4bd1311e"
      },
      "source": [
        "top5 = df.LocationDescription.value_counts()[:6]\n",
        "top5"
      ],
      "execution_count": 69,
      "outputs": [
        {
          "output_type": "execute_result",
          "data": {
            "text/plain": [
              "STREET                            156564\n",
              "PARKING LOT/GARAGE(NON.RESID.)     14852\n",
              "OTHER                               4573\n",
              "ALLEY                               2308\n",
              "GAS STATION                         2111\n",
              "DRIVEWAY - RESIDENTIAL              1675\n",
              "Name: LocationDescription, dtype: int64"
            ]
          },
          "metadata": {
            "tags": []
          },
          "execution_count": 69
        }
      ]
    },
    {
      "cell_type": "code",
      "metadata": {
        "id": "LB7d_uI5OAL0",
        "colab_type": "code",
        "colab": {
          "base_uri": "https://localhost:8080/",
          "height": 67
        },
        "outputId": "44d3b98f-d0d1-462b-a684-bd666a7742b2"
      },
      "source": [
        "df.Arrest.value_counts()"
      ],
      "execution_count": 24,
      "outputs": [
        {
          "output_type": "execute_result",
          "data": {
            "text/plain": [
              "False    176105\n",
              "True      15536\n",
              "Name: Arrest, dtype: int64"
            ]
          },
          "metadata": {
            "tags": []
          },
          "execution_count": 24
        }
      ]
    },
    {
      "cell_type": "code",
      "metadata": {
        "id": "8Ym_fQWlPDWy",
        "colab_type": "code",
        "colab": {
          "base_uri": "https://localhost:8080/",
          "height": 296
        },
        "outputId": "1ba4f15a-f36e-4dab-9f4f-0daf01685955"
      },
      "source": [
        "import seaborn as sns\n",
        "\n",
        "sns.countplot(df.Arrest, hue=df.Year)"
      ],
      "execution_count": 33,
      "outputs": [
        {
          "output_type": "execute_result",
          "data": {
            "text/plain": [
              "<matplotlib.axes._subplots.AxesSubplot at 0x7f8adae24630>"
            ]
          },
          "metadata": {
            "tags": []
          },
          "execution_count": 33
        },
        {
          "output_type": "display_data",
          "data": {
            "image/png": "[encoded data removed]",
            "text/plain": [
              "<Figure size 432x288 with 1 Axes>"
            ]
          },
          "metadata": {
            "tags": [],
            "needs_background": "light"
          }
        }
      ]
    },
    {
      "cell_type": "code",
      "metadata": {
        "id": "0vEn3lyWP7eD",
        "colab_type": "code",
        "colab": {
          "base_uri": "https://localhost:8080/",
          "height": 235
        },
        "outputId": "296f8c0d-5e7d-4ae2-8c7b-f591f9fcf9b6"
      },
      "source": [
        "df.Year.value_counts()"
      ],
      "execution_count": 42,
      "outputs": [
        {
          "output_type": "execute_result",
          "data": {
            "text/plain": [
              "2001    20669\n",
              "2002    18753\n",
              "2004    16862\n",
              "2003    16657\n",
              "2005    16484\n",
              "2006    16098\n",
              "2011    15637\n",
              "2010    15497\n",
              "2008    14445\n",
              "2007    14280\n",
              "2012    14092\n",
              "2009    12167\n",
              "Name: Year, dtype: int64"
            ]
          },
          "metadata": {
            "tags": []
          },
          "execution_count": 42
        }
      ]
    },
    {
      "cell_type": "code",
      "metadata": {
        "id": "prT512JPRsom",
        "colab_type": "code",
        "colab": {
          "base_uri": "https://localhost:8080/",
          "height": 296
        },
        "outputId": "0bf9db48-b25b-4abd-a07a-e4c0b54f11d9"
      },
      "source": [
        "sns.countplot(df.Year, hue=df.Arrest)"
      ],
      "execution_count": 46,
      "outputs": [
        {
          "output_type": "execute_result",
          "data": {
            "text/plain": [
              "<matplotlib.axes._subplots.AxesSubplot at 0x7f8a09996390>"
            ]
          },
          "metadata": {
            "tags": []
          },
          "execution_count": 46
        },
        {
          "output_type": "display_data",
          "data": {
            "image/png": "[encoded data removed]",
            "text/plain": [
              "<Figure size 432x288 with 1 Axes>"
            ]
          },
          "metadata": {
            "tags": [],
            "needs_background": "light"
          }
        }
      ]
    },
    {
      "cell_type": "code",
      "metadata": {
        "id": "gzUMWhrxT9Pj",
        "colab_type": "code",
        "colab": {
          "base_uri": "https://localhost:8080/",
          "height": 235
        },
        "outputId": "7946d564-35a3-4e8e-de0e-e26f2dc8876e"
      },
      "source": [
        "df.Year.value_counts(normalize=True)"
      ],
      "execution_count": 47,
      "outputs": [
        {
          "output_type": "execute_result",
          "data": {
            "text/plain": [
              "2001    0.107853\n",
              "2002    0.097855\n",
              "2004    0.087987\n",
              "2003    0.086918\n",
              "2005    0.086015\n",
              "2006    0.084001\n",
              "2011    0.081595\n",
              "2010    0.080865\n",
              "2008    0.075375\n",
              "2007    0.074514\n",
              "2012    0.073533\n",
              "2009    0.063489\n",
              "Name: Year, dtype: float64"
            ]
          },
          "metadata": {
            "tags": []
          },
          "execution_count": 47
        }
      ]
    },
    {
      "cell_type": "code",
      "metadata": {
        "id": "Y30qBw_4Vdr3",
        "colab_type": "code",
        "colab": {}
      },
      "source": [
        "year_2007 = df.loc[df['Year'] == 2007]"
      ],
      "execution_count": 0,
      "outputs": []
    },
    {
      "cell_type": "code",
      "metadata": {
        "id": "b0CwFJYVV8iW",
        "colab_type": "code",
        "colab": {
          "base_uri": "https://localhost:8080/",
          "height": 195
        },
        "outputId": "c0fc98e6-cbf9-40a9-b577-023f45920b5a"
      },
      "source": [
        "year_2007.head()"
      ],
      "execution_count": 50,
      "outputs": [
        {
          "output_type": "execute_result",
          "data": {
            "text/html": [
              "<div>\n",
              "<style scoped>\n",
              "    .dataframe tbody tr th:only-of-type {\n",
              "        vertical-align: middle;\n",
              "    }\n",
              "\n",
              "    .dataframe tbody tr th {\n",
              "        vertical-align: top;\n",
              "    }\n",
              "\n",
              "    .dataframe thead th {\n",
              "        text-align: right;\n",
              "    }\n",
              "</style>\n",
              "<table border=\"1\" class=\"dataframe\">\n",
              "  <thead>\n",
              "    <tr style=\"text-align: right;\">\n",
              "      <th></th>\n",
              "      <th>Unnamed: 0</th>\n",
              "      <th>ID</th>\n",
              "      <th>Date</th>\n",
              "      <th>LocationDescription</th>\n",
              "      <th>Arrest</th>\n",
              "      <th>Domestic</th>\n",
              "      <th>Beat</th>\n",
              "      <th>District</th>\n",
              "      <th>CommunityArea</th>\n",
              "      <th>Year</th>\n",
              "    </tr>\n",
              "  </thead>\n",
              "  <tbody>\n",
              "    <tr>\n",
              "      <th>71838</th>\n",
              "      <td>71838</td>\n",
              "      <td>5993831</td>\n",
              "      <td>12/31/07 23:00</td>\n",
              "      <td>STREET</td>\n",
              "      <td>False</td>\n",
              "      <td>False</td>\n",
              "      <td>222</td>\n",
              "      <td>2</td>\n",
              "      <td>38</td>\n",
              "      <td>2007</td>\n",
              "    </tr>\n",
              "    <tr>\n",
              "      <th>71839</th>\n",
              "      <td>71839</td>\n",
              "      <td>5991695</td>\n",
              "      <td>12/31/07 22:30</td>\n",
              "      <td>STREET</td>\n",
              "      <td>False</td>\n",
              "      <td>False</td>\n",
              "      <td>1424</td>\n",
              "      <td>14</td>\n",
              "      <td>24</td>\n",
              "      <td>2007</td>\n",
              "    </tr>\n",
              "    <tr>\n",
              "      <th>71840</th>\n",
              "      <td>71840</td>\n",
              "      <td>5992891</td>\n",
              "      <td>12/31/07 22:00</td>\n",
              "      <td>STREET</td>\n",
              "      <td>False</td>\n",
              "      <td>False</td>\n",
              "      <td>832</td>\n",
              "      <td>8</td>\n",
              "      <td>66</td>\n",
              "      <td>2007</td>\n",
              "    </tr>\n",
              "    <tr>\n",
              "      <th>71841</th>\n",
              "      <td>71841</td>\n",
              "      <td>5992729</td>\n",
              "      <td>12/31/07 22:00</td>\n",
              "      <td>STREET</td>\n",
              "      <td>False</td>\n",
              "      <td>False</td>\n",
              "      <td>824</td>\n",
              "      <td>8</td>\n",
              "      <td>63</td>\n",
              "      <td>2007</td>\n",
              "    </tr>\n",
              "    <tr>\n",
              "      <th>71842</th>\n",
              "      <td>71842</td>\n",
              "      <td>5997054</td>\n",
              "      <td>12/31/07 22:00</td>\n",
              "      <td>STREET</td>\n",
              "      <td>False</td>\n",
              "      <td>False</td>\n",
              "      <td>823</td>\n",
              "      <td>8</td>\n",
              "      <td>66</td>\n",
              "      <td>2007</td>\n",
              "    </tr>\n",
              "  </tbody>\n",
              "</table>\n",
              "</div>"
            ],
            "text/plain": [
              "       Unnamed: 0       ID            Date  ... District  CommunityArea  Year\n",
              "71838       71838  5993831  12/31/07 23:00  ...        2             38  2007\n",
              "71839       71839  5991695  12/31/07 22:30  ...       14             24  2007\n",
              "71840       71840  5992891  12/31/07 22:00  ...        8             66  2007\n",
              "71841       71841  5992729  12/31/07 22:00  ...        8             63  2007\n",
              "71842       71842  5997054  12/31/07 22:00  ...        8             66  2007\n",
              "\n",
              "[5 rows x 10 columns]"
            ]
          },
          "metadata": {
            "tags": []
          },
          "execution_count": 50
        }
      ]
    },
    {
      "cell_type": "code",
      "metadata": {
        "id": "EuouCyroV-hS",
        "colab_type": "code",
        "colab": {
          "base_uri": "https://localhost:8080/",
          "height": 67
        },
        "outputId": "2dc39945-30b8-4bb6-f2a9-976aa210de94"
      },
      "source": [
        "year_2007.Arrest.value_counts()"
      ],
      "execution_count": 51,
      "outputs": [
        {
          "output_type": "execute_result",
          "data": {
            "text/plain": [
              "False    13068\n",
              "True      1212\n",
              "Name: Arrest, dtype: int64"
            ]
          },
          "metadata": {
            "tags": []
          },
          "execution_count": 51
        }
      ]
    },
    {
      "cell_type": "code",
      "metadata": {
        "id": "h08OSu95WcUZ",
        "colab_type": "code",
        "colab": {
          "base_uri": "https://localhost:8080/",
          "height": 34
        },
        "outputId": "b86ec6ad-972a-4ca8-9c63-a4faa17228ee"
      },
      "source": [
        "f = 0.085\n",
        "print(\" %.2f\" %f)"
      ],
      "execution_count": 53,
      "outputs": [
        {
          "output_type": "stream",
          "text": [
            " 0.09\n"
          ],
          "name": "stdout"
        }
      ]
    },
    {
      "cell_type": "code",
      "metadata": {
        "id": "sZ1R0X1qYc-C",
        "colab_type": "code",
        "colab": {}
      },
      "source": [
        "data_new = pd.to_datetime(df['Date'])"
      ],
      "execution_count": 0,
      "outputs": []
    },
    {
      "cell_type": "code",
      "metadata": {
        "id": "CtWxJ8XyZ12K",
        "colab_type": "code",
        "colab": {
          "base_uri": "https://localhost:8080/",
          "height": 118
        },
        "outputId": "6547b734-7370-4451-d637-62d876889033"
      },
      "source": [
        "data_new.head()"
      ],
      "execution_count": 66,
      "outputs": [
        {
          "output_type": "execute_result",
          "data": {
            "text/plain": [
              "0   2012-12-31 23:15:00\n",
              "1   2012-12-31 22:00:00\n",
              "2   2012-12-31 22:00:00\n",
              "3   2012-12-31 22:00:00\n",
              "4   2012-12-31 21:30:00\n",
              "Name: Date, dtype: datetime64[ns]"
            ]
          },
          "metadata": {
            "tags": []
          },
          "execution_count": 66
        }
      ]
    },
    {
      "cell_type": "code",
      "metadata": {
        "id": "WrzZAlmNZ8cb",
        "colab_type": "code",
        "colab": {
          "base_uri": "https://localhost:8080/",
          "height": 195
        },
        "outputId": "188ca46c-3850-4606-c7ba-4627c027bb27"
      },
      "source": [
        "df.head()"
      ],
      "execution_count": 67,
      "outputs": [
        {
          "output_type": "execute_result",
          "data": {
            "text/html": [
              "<div>\n",
              "<style scoped>\n",
              "    .dataframe tbody tr th:only-of-type {\n",
              "        vertical-align: middle;\n",
              "    }\n",
              "\n",
              "    .dataframe tbody tr th {\n",
              "        vertical-align: top;\n",
              "    }\n",
              "\n",
              "    .dataframe thead th {\n",
              "        text-align: right;\n",
              "    }\n",
              "</style>\n",
              "<table border=\"1\" class=\"dataframe\">\n",
              "  <thead>\n",
              "    <tr style=\"text-align: right;\">\n",
              "      <th></th>\n",
              "      <th>Unnamed: 0</th>\n",
              "      <th>ID</th>\n",
              "      <th>Date</th>\n",
              "      <th>LocationDescription</th>\n",
              "      <th>Arrest</th>\n",
              "      <th>Domestic</th>\n",
              "      <th>Beat</th>\n",
              "      <th>District</th>\n",
              "      <th>CommunityArea</th>\n",
              "      <th>Year</th>\n",
              "    </tr>\n",
              "  </thead>\n",
              "  <tbody>\n",
              "    <tr>\n",
              "      <th>0</th>\n",
              "      <td>0</td>\n",
              "      <td>8951354</td>\n",
              "      <td>12/31/12 23:15</td>\n",
              "      <td>STREET</td>\n",
              "      <td>False</td>\n",
              "      <td>False</td>\n",
              "      <td>623</td>\n",
              "      <td>6</td>\n",
              "      <td>69</td>\n",
              "      <td>2012</td>\n",
              "    </tr>\n",
              "    <tr>\n",
              "      <th>1</th>\n",
              "      <td>1</td>\n",
              "      <td>8951141</td>\n",
              "      <td>12/31/12 22:00</td>\n",
              "      <td>STREET</td>\n",
              "      <td>False</td>\n",
              "      <td>False</td>\n",
              "      <td>1213</td>\n",
              "      <td>12</td>\n",
              "      <td>24</td>\n",
              "      <td>2012</td>\n",
              "    </tr>\n",
              "    <tr>\n",
              "      <th>2</th>\n",
              "      <td>2</td>\n",
              "      <td>8952745</td>\n",
              "      <td>12/31/12 22:00</td>\n",
              "      <td>RESIDENTIAL YARD (FRONT/BACK)</td>\n",
              "      <td>False</td>\n",
              "      <td>False</td>\n",
              "      <td>1622</td>\n",
              "      <td>16</td>\n",
              "      <td>11</td>\n",
              "      <td>2012</td>\n",
              "    </tr>\n",
              "    <tr>\n",
              "      <th>3</th>\n",
              "      <td>3</td>\n",
              "      <td>8952223</td>\n",
              "      <td>12/31/12 22:00</td>\n",
              "      <td>STREET</td>\n",
              "      <td>False</td>\n",
              "      <td>False</td>\n",
              "      <td>724</td>\n",
              "      <td>7</td>\n",
              "      <td>67</td>\n",
              "      <td>2012</td>\n",
              "    </tr>\n",
              "    <tr>\n",
              "      <th>4</th>\n",
              "      <td>4</td>\n",
              "      <td>8951608</td>\n",
              "      <td>12/31/12 21:30</td>\n",
              "      <td>STREET</td>\n",
              "      <td>False</td>\n",
              "      <td>False</td>\n",
              "      <td>211</td>\n",
              "      <td>2</td>\n",
              "      <td>35</td>\n",
              "      <td>2012</td>\n",
              "    </tr>\n",
              "  </tbody>\n",
              "</table>\n",
              "</div>"
            ],
            "text/plain": [
              "   Unnamed: 0       ID            Date  ... District  CommunityArea  Year\n",
              "0           0  8951354  12/31/12 23:15  ...        6             69  2012\n",
              "1           1  8951141  12/31/12 22:00  ...       12             24  2012\n",
              "2           2  8952745  12/31/12 22:00  ...       16             11  2012\n",
              "3           3  8952223  12/31/12 22:00  ...        7             67  2012\n",
              "4           4  8951608  12/31/12 21:30  ...        2             35  2012\n",
              "\n",
              "[5 rows x 10 columns]"
            ]
          },
          "metadata": {
            "tags": []
          },
          "execution_count": 67
        }
      ]
    },
    {
      "cell_type": "code",
      "metadata": {
        "id": "7p-4Zfdetoj4",
        "colab_type": "code",
        "colab": {}
      },
      "source": [
        "data_gasstation = df.loc[df['LocationDescription'] == 'GAS STATION']"
      ],
      "execution_count": 0,
      "outputs": []
    },
    {
      "cell_type": "code",
      "metadata": {
        "id": "dCXpPaExuDeZ",
        "colab_type": "code",
        "colab": {
          "base_uri": "https://localhost:8080/",
          "height": 195
        },
        "outputId": "a4564bde-6b09-4231-c885-055772d905e3"
      },
      "source": [
        "data_gasstation.head()"
      ],
      "execution_count": 80,
      "outputs": [
        {
          "output_type": "execute_result",
          "data": {
            "text/html": [
              "<div>\n",
              "<style scoped>\n",
              "    .dataframe tbody tr th:only-of-type {\n",
              "        vertical-align: middle;\n",
              "    }\n",
              "\n",
              "    .dataframe tbody tr th {\n",
              "        vertical-align: top;\n",
              "    }\n",
              "\n",
              "    .dataframe thead th {\n",
              "        text-align: right;\n",
              "    }\n",
              "</style>\n",
              "<table border=\"1\" class=\"dataframe\">\n",
              "  <thead>\n",
              "    <tr style=\"text-align: right;\">\n",
              "      <th></th>\n",
              "      <th>Unnamed: 0</th>\n",
              "      <th>ID</th>\n",
              "      <th>Date</th>\n",
              "      <th>LocationDescription</th>\n",
              "      <th>Arrest</th>\n",
              "      <th>Domestic</th>\n",
              "      <th>Beat</th>\n",
              "      <th>District</th>\n",
              "      <th>CommunityArea</th>\n",
              "      <th>Year</th>\n",
              "    </tr>\n",
              "  </thead>\n",
              "  <tbody>\n",
              "    <tr>\n",
              "      <th>13</th>\n",
              "      <td>13</td>\n",
              "      <td>8950570</td>\n",
              "      <td>12/31/12 16:20</td>\n",
              "      <td>GAS STATION</td>\n",
              "      <td>True</td>\n",
              "      <td>False</td>\n",
              "      <td>825</td>\n",
              "      <td>8</td>\n",
              "      <td>66</td>\n",
              "      <td>2012</td>\n",
              "    </tr>\n",
              "    <tr>\n",
              "      <th>106</th>\n",
              "      <td>106</td>\n",
              "      <td>8948353</td>\n",
              "      <td>12/29/12 10:00</td>\n",
              "      <td>GAS STATION</td>\n",
              "      <td>False</td>\n",
              "      <td>False</td>\n",
              "      <td>823</td>\n",
              "      <td>8</td>\n",
              "      <td>66</td>\n",
              "      <td>2012</td>\n",
              "    </tr>\n",
              "    <tr>\n",
              "      <th>213</th>\n",
              "      <td>213</td>\n",
              "      <td>8945802</td>\n",
              "      <td>12/27/12 10:00</td>\n",
              "      <td>GAS STATION</td>\n",
              "      <td>False</td>\n",
              "      <td>False</td>\n",
              "      <td>321</td>\n",
              "      <td>3</td>\n",
              "      <td>42</td>\n",
              "      <td>2012</td>\n",
              "    </tr>\n",
              "    <tr>\n",
              "      <th>278</th>\n",
              "      <td>278</td>\n",
              "      <td>8943877</td>\n",
              "      <td>12/25/12 10:00</td>\n",
              "      <td>GAS STATION</td>\n",
              "      <td>False</td>\n",
              "      <td>False</td>\n",
              "      <td>332</td>\n",
              "      <td>3</td>\n",
              "      <td>43</td>\n",
              "      <td>2012</td>\n",
              "    </tr>\n",
              "    <tr>\n",
              "      <th>290</th>\n",
              "      <td>290</td>\n",
              "      <td>8943595</td>\n",
              "      <td>12/24/12 21:55</td>\n",
              "      <td>GAS STATION</td>\n",
              "      <td>False</td>\n",
              "      <td>False</td>\n",
              "      <td>421</td>\n",
              "      <td>4</td>\n",
              "      <td>43</td>\n",
              "      <td>2012</td>\n",
              "    </tr>\n",
              "  </tbody>\n",
              "</table>\n",
              "</div>"
            ],
            "text/plain": [
              "     Unnamed: 0       ID            Date  ... District  CommunityArea  Year\n",
              "13           13  8950570  12/31/12 16:20  ...        8             66  2012\n",
              "106         106  8948353  12/29/12 10:00  ...        8             66  2012\n",
              "213         213  8945802  12/27/12 10:00  ...        3             42  2012\n",
              "278         278  8943877  12/25/12 10:00  ...        3             43  2012\n",
              "290         290  8943595  12/24/12 21:55  ...        4             43  2012\n",
              "\n",
              "[5 rows x 10 columns]"
            ]
          },
          "metadata": {
            "tags": []
          },
          "execution_count": 80
        }
      ]
    },
    {
      "cell_type": "code",
      "metadata": {
        "id": "T3hdlceSu8NP",
        "colab_type": "code",
        "colab": {
          "base_uri": "https://localhost:8080/",
          "height": 118
        },
        "outputId": "e8c88314-6357-4661-8e1d-a317f2570f5b"
      },
      "source": [
        "data_gasstation['Date'] = pd.to_datetime(data_gasstation['Date'])"
      ],
      "execution_count": 82,
      "outputs": [
        {
          "output_type": "stream",
          "text": [
            "/usr/local/lib/python3.6/dist-packages/ipykernel_launcher.py:1: SettingWithCopyWarning: \n",
            "A value is trying to be set on a copy of a slice from a DataFrame.\n",
            "Try using .loc[row_indexer,col_indexer] = value instead\n",
            "\n",
            "See the caveats in the documentation: https://pandas.pydata.org/pandas-docs/stable/user_guide/indexing.html#returning-a-view-versus-a-copy\n",
            "  \"\"\"Entry point for launching an IPython kernel.\n"
          ],
          "name": "stderr"
        }
      ]
    },
    {
      "cell_type": "code",
      "metadata": {
        "id": "C3iFbdj_wiQn",
        "colab_type": "code",
        "colab": {
          "base_uri": "https://localhost:8080/",
          "height": 195
        },
        "outputId": "a76f143d-cdc2-4cc3-e457-960b17c1d331"
      },
      "source": [
        "data_gasstation.head()"
      ],
      "execution_count": 83,
      "outputs": [
        {
          "output_type": "execute_result",
          "data": {
            "text/html": [
              "<div>\n",
              "<style scoped>\n",
              "    .dataframe tbody tr th:only-of-type {\n",
              "        vertical-align: middle;\n",
              "    }\n",
              "\n",
              "    .dataframe tbody tr th {\n",
              "        vertical-align: top;\n",
              "    }\n",
              "\n",
              "    .dataframe thead th {\n",
              "        text-align: right;\n",
              "    }\n",
              "</style>\n",
              "<table border=\"1\" class=\"dataframe\">\n",
              "  <thead>\n",
              "    <tr style=\"text-align: right;\">\n",
              "      <th></th>\n",
              "      <th>Unnamed: 0</th>\n",
              "      <th>ID</th>\n",
              "      <th>Date</th>\n",
              "      <th>LocationDescription</th>\n",
              "      <th>Arrest</th>\n",
              "      <th>Domestic</th>\n",
              "      <th>Beat</th>\n",
              "      <th>District</th>\n",
              "      <th>CommunityArea</th>\n",
              "      <th>Year</th>\n",
              "    </tr>\n",
              "  </thead>\n",
              "  <tbody>\n",
              "    <tr>\n",
              "      <th>13</th>\n",
              "      <td>13</td>\n",
              "      <td>8950570</td>\n",
              "      <td>2012-12-31 16:20:00</td>\n",
              "      <td>GAS STATION</td>\n",
              "      <td>True</td>\n",
              "      <td>False</td>\n",
              "      <td>825</td>\n",
              "      <td>8</td>\n",
              "      <td>66</td>\n",
              "      <td>2012</td>\n",
              "    </tr>\n",
              "    <tr>\n",
              "      <th>106</th>\n",
              "      <td>106</td>\n",
              "      <td>8948353</td>\n",
              "      <td>2012-12-29 10:00:00</td>\n",
              "      <td>GAS STATION</td>\n",
              "      <td>False</td>\n",
              "      <td>False</td>\n",
              "      <td>823</td>\n",
              "      <td>8</td>\n",
              "      <td>66</td>\n",
              "      <td>2012</td>\n",
              "    </tr>\n",
              "    <tr>\n",
              "      <th>213</th>\n",
              "      <td>213</td>\n",
              "      <td>8945802</td>\n",
              "      <td>2012-12-27 10:00:00</td>\n",
              "      <td>GAS STATION</td>\n",
              "      <td>False</td>\n",
              "      <td>False</td>\n",
              "      <td>321</td>\n",
              "      <td>3</td>\n",
              "      <td>42</td>\n",
              "      <td>2012</td>\n",
              "    </tr>\n",
              "    <tr>\n",
              "      <th>278</th>\n",
              "      <td>278</td>\n",
              "      <td>8943877</td>\n",
              "      <td>2012-12-25 10:00:00</td>\n",
              "      <td>GAS STATION</td>\n",
              "      <td>False</td>\n",
              "      <td>False</td>\n",
              "      <td>332</td>\n",
              "      <td>3</td>\n",
              "      <td>43</td>\n",
              "      <td>2012</td>\n",
              "    </tr>\n",
              "    <tr>\n",
              "      <th>290</th>\n",
              "      <td>290</td>\n",
              "      <td>8943595</td>\n",
              "      <td>2012-12-24 21:55:00</td>\n",
              "      <td>GAS STATION</td>\n",
              "      <td>False</td>\n",
              "      <td>False</td>\n",
              "      <td>421</td>\n",
              "      <td>4</td>\n",
              "      <td>43</td>\n",
              "      <td>2012</td>\n",
              "    </tr>\n",
              "  </tbody>\n",
              "</table>\n",
              "</div>"
            ],
            "text/plain": [
              "     Unnamed: 0       ID                Date  ... District  CommunityArea  Year\n",
              "13           13  8950570 2012-12-31 16:20:00  ...        8             66  2012\n",
              "106         106  8948353 2012-12-29 10:00:00  ...        8             66  2012\n",
              "213         213  8945802 2012-12-27 10:00:00  ...        3             42  2012\n",
              "278         278  8943877 2012-12-25 10:00:00  ...        3             43  2012\n",
              "290         290  8943595 2012-12-24 21:55:00  ...        4             43  2012\n",
              "\n",
              "[5 rows x 10 columns]"
            ]
          },
          "metadata": {
            "tags": []
          },
          "execution_count": 83
        }
      ]
    },
    {
      "cell_type": "code",
      "metadata": {
        "id": "WJP5SZp9wo_a",
        "colab_type": "code",
        "colab": {
          "base_uri": "https://localhost:8080/",
          "height": 118
        },
        "outputId": "102a0979-6060-4bad-a0cc-66ad692a365b"
      },
      "source": [
        "data_gasstation['Date'] = pd.to_datetime(data_gasstation['Date'], format='%A')"
      ],
      "execution_count": 84,
      "outputs": [
        {
          "output_type": "stream",
          "text": [
            "/usr/local/lib/python3.6/dist-packages/ipykernel_launcher.py:1: SettingWithCopyWarning: \n",
            "A value is trying to be set on a copy of a slice from a DataFrame.\n",
            "Try using .loc[row_indexer,col_indexer] = value instead\n",
            "\n",
            "See the caveats in the documentation: https://pandas.pydata.org/pandas-docs/stable/user_guide/indexing.html#returning-a-view-versus-a-copy\n",
            "  \"\"\"Entry point for launching an IPython kernel.\n"
          ],
          "name": "stderr"
        }
      ]
    },
    {
      "cell_type": "code",
      "metadata": {
        "id": "77Jb14xXxT1L",
        "colab_type": "code",
        "colab": {
          "base_uri": "https://localhost:8080/",
          "height": 195
        },
        "outputId": "36e90c41-7083-436a-efc2-6c15d4f11c0f"
      },
      "source": [
        "data_gasstation.head()"
      ],
      "execution_count": 85,
      "outputs": [
        {
          "output_type": "execute_result",
          "data": {
            "text/html": [
              "<div>\n",
              "<style scoped>\n",
              "    .dataframe tbody tr th:only-of-type {\n",
              "        vertical-align: middle;\n",
              "    }\n",
              "\n",
              "    .dataframe tbody tr th {\n",
              "        vertical-align: top;\n",
              "    }\n",
              "\n",
              "    .dataframe thead th {\n",
              "        text-align: right;\n",
              "    }\n",
              "</style>\n",
              "<table border=\"1\" class=\"dataframe\">\n",
              "  <thead>\n",
              "    <tr style=\"text-align: right;\">\n",
              "      <th></th>\n",
              "      <th>Unnamed: 0</th>\n",
              "      <th>ID</th>\n",
              "      <th>Date</th>\n",
              "      <th>LocationDescription</th>\n",
              "      <th>Arrest</th>\n",
              "      <th>Domestic</th>\n",
              "      <th>Beat</th>\n",
              "      <th>District</th>\n",
              "      <th>CommunityArea</th>\n",
              "      <th>Year</th>\n",
              "    </tr>\n",
              "  </thead>\n",
              "  <tbody>\n",
              "    <tr>\n",
              "      <th>13</th>\n",
              "      <td>13</td>\n",
              "      <td>8950570</td>\n",
              "      <td>2012-12-31 16:20:00</td>\n",
              "      <td>GAS STATION</td>\n",
              "      <td>True</td>\n",
              "      <td>False</td>\n",
              "      <td>825</td>\n",
              "      <td>8</td>\n",
              "      <td>66</td>\n",
              "      <td>2012</td>\n",
              "    </tr>\n",
              "    <tr>\n",
              "      <th>106</th>\n",
              "      <td>106</td>\n",
              "      <td>8948353</td>\n",
              "      <td>2012-12-29 10:00:00</td>\n",
              "      <td>GAS STATION</td>\n",
              "      <td>False</td>\n",
              "      <td>False</td>\n",
              "      <td>823</td>\n",
              "      <td>8</td>\n",
              "      <td>66</td>\n",
              "      <td>2012</td>\n",
              "    </tr>\n",
              "    <tr>\n",
              "      <th>213</th>\n",
              "      <td>213</td>\n",
              "      <td>8945802</td>\n",
              "      <td>2012-12-27 10:00:00</td>\n",
              "      <td>GAS STATION</td>\n",
              "      <td>False</td>\n",
              "      <td>False</td>\n",
              "      <td>321</td>\n",
              "      <td>3</td>\n",
              "      <td>42</td>\n",
              "      <td>2012</td>\n",
              "    </tr>\n",
              "    <tr>\n",
              "      <th>278</th>\n",
              "      <td>278</td>\n",
              "      <td>8943877</td>\n",
              "      <td>2012-12-25 10:00:00</td>\n",
              "      <td>GAS STATION</td>\n",
              "      <td>False</td>\n",
              "      <td>False</td>\n",
              "      <td>332</td>\n",
              "      <td>3</td>\n",
              "      <td>43</td>\n",
              "      <td>2012</td>\n",
              "    </tr>\n",
              "    <tr>\n",
              "      <th>290</th>\n",
              "      <td>290</td>\n",
              "      <td>8943595</td>\n",
              "      <td>2012-12-24 21:55:00</td>\n",
              "      <td>GAS STATION</td>\n",
              "      <td>False</td>\n",
              "      <td>False</td>\n",
              "      <td>421</td>\n",
              "      <td>4</td>\n",
              "      <td>43</td>\n",
              "      <td>2012</td>\n",
              "    </tr>\n",
              "  </tbody>\n",
              "</table>\n",
              "</div>"
            ],
            "text/plain": [
              "     Unnamed: 0       ID                Date  ... District  CommunityArea  Year\n",
              "13           13  8950570 2012-12-31 16:20:00  ...        8             66  2012\n",
              "106         106  8948353 2012-12-29 10:00:00  ...        8             66  2012\n",
              "213         213  8945802 2012-12-27 10:00:00  ...        3             42  2012\n",
              "278         278  8943877 2012-12-25 10:00:00  ...        3             43  2012\n",
              "290         290  8943595 2012-12-24 21:55:00  ...        4             43  2012\n",
              "\n",
              "[5 rows x 10 columns]"
            ]
          },
          "metadata": {
            "tags": []
          },
          "execution_count": 85
        }
      ]
    },
    {
      "cell_type": "code",
      "metadata": {
        "id": "oDxw8CDUyBMR",
        "colab_type": "code",
        "colab": {
          "base_uri": "https://localhost:8080/",
          "height": 118
        },
        "outputId": "9c264afa-5547-48ee-a25a-c73039c8ac77"
      },
      "source": [
        "data_gasstation['Date'] = data_gasstation['Date'].dt.day_name()"
      ],
      "execution_count": 89,
      "outputs": [
        {
          "output_type": "stream",
          "text": [
            "/usr/local/lib/python3.6/dist-packages/ipykernel_launcher.py:1: SettingWithCopyWarning: \n",
            "A value is trying to be set on a copy of a slice from a DataFrame.\n",
            "Try using .loc[row_indexer,col_indexer] = value instead\n",
            "\n",
            "See the caveats in the documentation: https://pandas.pydata.org/pandas-docs/stable/user_guide/indexing.html#returning-a-view-versus-a-copy\n",
            "  \"\"\"Entry point for launching an IPython kernel.\n"
          ],
          "name": "stderr"
        }
      ]
    },
    {
      "cell_type": "code",
      "metadata": {
        "id": "7I9frD6hzBEC",
        "colab_type": "code",
        "colab": {
          "base_uri": "https://localhost:8080/",
          "height": 195
        },
        "outputId": "b9912da7-8651-4584-c7fd-71f95f0a2cec"
      },
      "source": [
        "data_gasstation.head()"
      ],
      "execution_count": 90,
      "outputs": [
        {
          "output_type": "execute_result",
          "data": {
            "text/html": [
              "<div>\n",
              "<style scoped>\n",
              "    .dataframe tbody tr th:only-of-type {\n",
              "        vertical-align: middle;\n",
              "    }\n",
              "\n",
              "    .dataframe tbody tr th {\n",
              "        vertical-align: top;\n",
              "    }\n",
              "\n",
              "    .dataframe thead th {\n",
              "        text-align: right;\n",
              "    }\n",
              "</style>\n",
              "<table border=\"1\" class=\"dataframe\">\n",
              "  <thead>\n",
              "    <tr style=\"text-align: right;\">\n",
              "      <th></th>\n",
              "      <th>Unnamed: 0</th>\n",
              "      <th>ID</th>\n",
              "      <th>Date</th>\n",
              "      <th>LocationDescription</th>\n",
              "      <th>Arrest</th>\n",
              "      <th>Domestic</th>\n",
              "      <th>Beat</th>\n",
              "      <th>District</th>\n",
              "      <th>CommunityArea</th>\n",
              "      <th>Year</th>\n",
              "    </tr>\n",
              "  </thead>\n",
              "  <tbody>\n",
              "    <tr>\n",
              "      <th>13</th>\n",
              "      <td>13</td>\n",
              "      <td>8950570</td>\n",
              "      <td>Monday</td>\n",
              "      <td>GAS STATION</td>\n",
              "      <td>True</td>\n",
              "      <td>False</td>\n",
              "      <td>825</td>\n",
              "      <td>8</td>\n",
              "      <td>66</td>\n",
              "      <td>2012</td>\n",
              "    </tr>\n",
              "    <tr>\n",
              "      <th>106</th>\n",
              "      <td>106</td>\n",
              "      <td>8948353</td>\n",
              "      <td>Saturday</td>\n",
              "      <td>GAS STATION</td>\n",
              "      <td>False</td>\n",
              "      <td>False</td>\n",
              "      <td>823</td>\n",
              "      <td>8</td>\n",
              "      <td>66</td>\n",
              "      <td>2012</td>\n",
              "    </tr>\n",
              "    <tr>\n",
              "      <th>213</th>\n",
              "      <td>213</td>\n",
              "      <td>8945802</td>\n",
              "      <td>Thursday</td>\n",
              "      <td>GAS STATION</td>\n",
              "      <td>False</td>\n",
              "      <td>False</td>\n",
              "      <td>321</td>\n",
              "      <td>3</td>\n",
              "      <td>42</td>\n",
              "      <td>2012</td>\n",
              "    </tr>\n",
              "    <tr>\n",
              "      <th>278</th>\n",
              "      <td>278</td>\n",
              "      <td>8943877</td>\n",
              "      <td>Tuesday</td>\n",
              "      <td>GAS STATION</td>\n",
              "      <td>False</td>\n",
              "      <td>False</td>\n",
              "      <td>332</td>\n",
              "      <td>3</td>\n",
              "      <td>43</td>\n",
              "      <td>2012</td>\n",
              "    </tr>\n",
              "    <tr>\n",
              "      <th>290</th>\n",
              "      <td>290</td>\n",
              "      <td>8943595</td>\n",
              "      <td>Monday</td>\n",
              "      <td>GAS STATION</td>\n",
              "      <td>False</td>\n",
              "      <td>False</td>\n",
              "      <td>421</td>\n",
              "      <td>4</td>\n",
              "      <td>43</td>\n",
              "      <td>2012</td>\n",
              "    </tr>\n",
              "  </tbody>\n",
              "</table>\n",
              "</div>"
            ],
            "text/plain": [
              "     Unnamed: 0       ID      Date  ... District  CommunityArea  Year\n",
              "13           13  8950570    Monday  ...        8             66  2012\n",
              "106         106  8948353  Saturday  ...        8             66  2012\n",
              "213         213  8945802  Thursday  ...        3             42  2012\n",
              "278         278  8943877   Tuesday  ...        3             43  2012\n",
              "290         290  8943595    Monday  ...        4             43  2012\n",
              "\n",
              "[5 rows x 10 columns]"
            ]
          },
          "metadata": {
            "tags": []
          },
          "execution_count": 90
        }
      ]
    },
    {
      "cell_type": "code",
      "metadata": {
        "id": "d0IW3Mf7zenE",
        "colab_type": "code",
        "colab": {
          "base_uri": "https://localhost:8080/",
          "height": 151
        },
        "outputId": "7159577c-90b6-40ab-82b3-4a9743adeff3"
      },
      "source": [
        "data_gasstation.Date.value_counts()"
      ],
      "execution_count": 91,
      "outputs": [
        {
          "output_type": "execute_result",
          "data": {
            "text/plain": [
              "Saturday     338\n",
              "Sunday       336\n",
              "Friday       332\n",
              "Thursday     282\n",
              "Monday       280\n",
              "Wednesday    273\n",
              "Tuesday      270\n",
              "Name: Date, dtype: int64"
            ]
          },
          "metadata": {
            "tags": []
          },
          "execution_count": 91
        }
      ]
    },
    {
      "cell_type": "code",
      "metadata": {
        "id": "fJqe-6HQzsIZ",
        "colab_type": "code",
        "colab": {}
      },
      "source": [
        "df['Date'] = pd.to_datetime(df['Date']).dt.day_name()"
      ],
      "execution_count": 0,
      "outputs": []
    },
    {
      "cell_type": "code",
      "metadata": {
        "id": "NN8m9cZi0iSi",
        "colab_type": "code",
        "colab": {
          "base_uri": "https://localhost:8080/",
          "height": 195
        },
        "outputId": "d131ed37-1239-46c3-eee8-700870b21fca"
      },
      "source": [
        "df.head()"
      ],
      "execution_count": 104,
      "outputs": [
        {
          "output_type": "execute_result",
          "data": {
            "text/html": [
              "<div>\n",
              "<style scoped>\n",
              "    .dataframe tbody tr th:only-of-type {\n",
              "        vertical-align: middle;\n",
              "    }\n",
              "\n",
              "    .dataframe tbody tr th {\n",
              "        vertical-align: top;\n",
              "    }\n",
              "\n",
              "    .dataframe thead th {\n",
              "        text-align: right;\n",
              "    }\n",
              "</style>\n",
              "<table border=\"1\" class=\"dataframe\">\n",
              "  <thead>\n",
              "    <tr style=\"text-align: right;\">\n",
              "      <th></th>\n",
              "      <th>Unnamed: 0</th>\n",
              "      <th>ID</th>\n",
              "      <th>Date</th>\n",
              "      <th>LocationDescription</th>\n",
              "      <th>Arrest</th>\n",
              "      <th>Domestic</th>\n",
              "      <th>Beat</th>\n",
              "      <th>District</th>\n",
              "      <th>CommunityArea</th>\n",
              "      <th>Year</th>\n",
              "    </tr>\n",
              "  </thead>\n",
              "  <tbody>\n",
              "    <tr>\n",
              "      <th>0</th>\n",
              "      <td>0</td>\n",
              "      <td>8951354</td>\n",
              "      <td>Monday</td>\n",
              "      <td>STREET</td>\n",
              "      <td>False</td>\n",
              "      <td>False</td>\n",
              "      <td>623</td>\n",
              "      <td>6</td>\n",
              "      <td>69</td>\n",
              "      <td>2012</td>\n",
              "    </tr>\n",
              "    <tr>\n",
              "      <th>1</th>\n",
              "      <td>1</td>\n",
              "      <td>8951141</td>\n",
              "      <td>Monday</td>\n",
              "      <td>STREET</td>\n",
              "      <td>False</td>\n",
              "      <td>False</td>\n",
              "      <td>1213</td>\n",
              "      <td>12</td>\n",
              "      <td>24</td>\n",
              "      <td>2012</td>\n",
              "    </tr>\n",
              "    <tr>\n",
              "      <th>2</th>\n",
              "      <td>2</td>\n",
              "      <td>8952745</td>\n",
              "      <td>Monday</td>\n",
              "      <td>RESIDENTIAL YARD (FRONT/BACK)</td>\n",
              "      <td>False</td>\n",
              "      <td>False</td>\n",
              "      <td>1622</td>\n",
              "      <td>16</td>\n",
              "      <td>11</td>\n",
              "      <td>2012</td>\n",
              "    </tr>\n",
              "    <tr>\n",
              "      <th>3</th>\n",
              "      <td>3</td>\n",
              "      <td>8952223</td>\n",
              "      <td>Monday</td>\n",
              "      <td>STREET</td>\n",
              "      <td>False</td>\n",
              "      <td>False</td>\n",
              "      <td>724</td>\n",
              "      <td>7</td>\n",
              "      <td>67</td>\n",
              "      <td>2012</td>\n",
              "    </tr>\n",
              "    <tr>\n",
              "      <th>4</th>\n",
              "      <td>4</td>\n",
              "      <td>8951608</td>\n",
              "      <td>Monday</td>\n",
              "      <td>STREET</td>\n",
              "      <td>False</td>\n",
              "      <td>False</td>\n",
              "      <td>211</td>\n",
              "      <td>2</td>\n",
              "      <td>35</td>\n",
              "      <td>2012</td>\n",
              "    </tr>\n",
              "  </tbody>\n",
              "</table>\n",
              "</div>"
            ],
            "text/plain": [
              "   Unnamed: 0       ID    Date  ... District  CommunityArea  Year\n",
              "0           0  8951354  Monday  ...        6             69  2012\n",
              "1           1  8951141  Monday  ...       12             24  2012\n",
              "2           2  8952745  Monday  ...       16             11  2012\n",
              "3           3  8952223  Monday  ...        7             67  2012\n",
              "4           4  8951608  Monday  ...        2             35  2012\n",
              "\n",
              "[5 rows x 10 columns]"
            ]
          },
          "metadata": {
            "tags": []
          },
          "execution_count": 104
        }
      ]
    },
    {
      "cell_type": "code",
      "metadata": {
        "id": "g5zC2ibR02TI",
        "colab_type": "code",
        "colab": {
          "base_uri": "https://localhost:8080/",
          "height": 151
        },
        "outputId": "2ce8b58c-6c0e-47f4-9a8b-b9a8c7406767"
      },
      "source": [
        "df.Date.value_counts()"
      ],
      "execution_count": 105,
      "outputs": [
        {
          "output_type": "execute_result",
          "data": {
            "text/plain": [
              "Friday       29284\n",
              "Wednesday    27416\n",
              "Monday       27397\n",
              "Thursday     27319\n",
              "Saturday     27118\n",
              "Tuesday      26791\n",
              "Sunday       26316\n",
              "Name: Date, dtype: int64"
            ]
          },
          "metadata": {
            "tags": []
          },
          "execution_count": 105
        }
      ]
    },
    {
      "cell_type": "code",
      "metadata": {
        "id": "kHbracpr1Rnt",
        "colab_type": "code",
        "colab": {}
      },
      "source": [
        "# load the dataset again by running the pd.read_csv file, else make an copy each time\n",
        "arrest_data = df.loc[df['Arrest'] == True]"
      ],
      "execution_count": 0,
      "outputs": []
    },
    {
      "cell_type": "code",
      "metadata": {
        "id": "3K7Elg0_3LWc",
        "colab_type": "code",
        "colab": {
          "base_uri": "https://localhost:8080/",
          "height": 195
        },
        "outputId": "18566e2f-c76f-4e1c-aaff-697d44b2e8ed"
      },
      "source": [
        "arrest_data.head()"
      ],
      "execution_count": 108,
      "outputs": [
        {
          "output_type": "execute_result",
          "data": {
            "text/html": [
              "<div>\n",
              "<style scoped>\n",
              "    .dataframe tbody tr th:only-of-type {\n",
              "        vertical-align: middle;\n",
              "    }\n",
              "\n",
              "    .dataframe tbody tr th {\n",
              "        vertical-align: top;\n",
              "    }\n",
              "\n",
              "    .dataframe thead th {\n",
              "        text-align: right;\n",
              "    }\n",
              "</style>\n",
              "<table border=\"1\" class=\"dataframe\">\n",
              "  <thead>\n",
              "    <tr style=\"text-align: right;\">\n",
              "      <th></th>\n",
              "      <th>Unnamed: 0</th>\n",
              "      <th>ID</th>\n",
              "      <th>Date</th>\n",
              "      <th>LocationDescription</th>\n",
              "      <th>Arrest</th>\n",
              "      <th>Domestic</th>\n",
              "      <th>Beat</th>\n",
              "      <th>District</th>\n",
              "      <th>CommunityArea</th>\n",
              "      <th>Year</th>\n",
              "    </tr>\n",
              "  </thead>\n",
              "  <tbody>\n",
              "    <tr>\n",
              "      <th>5</th>\n",
              "      <td>5</td>\n",
              "      <td>8950793</td>\n",
              "      <td>12/31/12 20:30</td>\n",
              "      <td>STREET</td>\n",
              "      <td>True</td>\n",
              "      <td>False</td>\n",
              "      <td>2521</td>\n",
              "      <td>25</td>\n",
              "      <td>19</td>\n",
              "      <td>2012</td>\n",
              "    </tr>\n",
              "    <tr>\n",
              "      <th>8</th>\n",
              "      <td>8</td>\n",
              "      <td>8951802</td>\n",
              "      <td>12/31/12 19:00</td>\n",
              "      <td>STREET</td>\n",
              "      <td>True</td>\n",
              "      <td>False</td>\n",
              "      <td>1021</td>\n",
              "      <td>10</td>\n",
              "      <td>29</td>\n",
              "      <td>2012</td>\n",
              "    </tr>\n",
              "    <tr>\n",
              "      <th>13</th>\n",
              "      <td>13</td>\n",
              "      <td>8950570</td>\n",
              "      <td>12/31/12 16:20</td>\n",
              "      <td>GAS STATION</td>\n",
              "      <td>True</td>\n",
              "      <td>False</td>\n",
              "      <td>825</td>\n",
              "      <td>8</td>\n",
              "      <td>66</td>\n",
              "      <td>2012</td>\n",
              "    </tr>\n",
              "    <tr>\n",
              "      <th>47</th>\n",
              "      <td>47</td>\n",
              "      <td>8949895</td>\n",
              "      <td>12/30/12 19:46</td>\n",
              "      <td>ALLEY</td>\n",
              "      <td>True</td>\n",
              "      <td>False</td>\n",
              "      <td>2512</td>\n",
              "      <td>25</td>\n",
              "      <td>18</td>\n",
              "      <td>2012</td>\n",
              "    </tr>\n",
              "    <tr>\n",
              "      <th>59</th>\n",
              "      <td>59</td>\n",
              "      <td>8949557</td>\n",
              "      <td>12/30/12 15:00</td>\n",
              "      <td>STREET</td>\n",
              "      <td>True</td>\n",
              "      <td>False</td>\n",
              "      <td>2535</td>\n",
              "      <td>25</td>\n",
              "      <td>23</td>\n",
              "      <td>2012</td>\n",
              "    </tr>\n",
              "  </tbody>\n",
              "</table>\n",
              "</div>"
            ],
            "text/plain": [
              "    Unnamed: 0       ID            Date  ... District  CommunityArea  Year\n",
              "5            5  8950793  12/31/12 20:30  ...       25             19  2012\n",
              "8            8  8951802  12/31/12 19:00  ...       10             29  2012\n",
              "13          13  8950570  12/31/12 16:20  ...        8             66  2012\n",
              "47          47  8949895  12/30/12 19:46  ...       25             18  2012\n",
              "59          59  8949557  12/30/12 15:00  ...       25             23  2012\n",
              "\n",
              "[5 rows x 10 columns]"
            ]
          },
          "metadata": {
            "tags": []
          },
          "execution_count": 108
        }
      ]
    },
    {
      "cell_type": "code",
      "metadata": {
        "id": "jY9m9HPR3Pqw",
        "colab_type": "code",
        "colab": {
          "base_uri": "https://localhost:8080/",
          "height": 118
        },
        "outputId": "78e39add-d624-4959-a341-7f9378abfd0f"
      },
      "source": [
        "arrest_data['Date']  =  pd.to_datetime(df['Date']).dt.month_name()"
      ],
      "execution_count": 110,
      "outputs": [
        {
          "output_type": "stream",
          "text": [
            "/usr/local/lib/python3.6/dist-packages/ipykernel_launcher.py:1: SettingWithCopyWarning: \n",
            "A value is trying to be set on a copy of a slice from a DataFrame.\n",
            "Try using .loc[row_indexer,col_indexer] = value instead\n",
            "\n",
            "See the caveats in the documentation: https://pandas.pydata.org/pandas-docs/stable/user_guide/indexing.html#returning-a-view-versus-a-copy\n",
            "  \"\"\"Entry point for launching an IPython kernel.\n"
          ],
          "name": "stderr"
        }
      ]
    },
    {
      "cell_type": "code",
      "metadata": {
        "id": "gIO9ASUO3pza",
        "colab_type": "code",
        "colab": {
          "base_uri": "https://localhost:8080/",
          "height": 195
        },
        "outputId": "46e3f43f-ee05-4a7e-e11f-186578b446c3"
      },
      "source": [
        "arrest_data.head()"
      ],
      "execution_count": 112,
      "outputs": [
        {
          "output_type": "execute_result",
          "data": {
            "text/html": [
              "<div>\n",
              "<style scoped>\n",
              "    .dataframe tbody tr th:only-of-type {\n",
              "        vertical-align: middle;\n",
              "    }\n",
              "\n",
              "    .dataframe tbody tr th {\n",
              "        vertical-align: top;\n",
              "    }\n",
              "\n",
              "    .dataframe thead th {\n",
              "        text-align: right;\n",
              "    }\n",
              "</style>\n",
              "<table border=\"1\" class=\"dataframe\">\n",
              "  <thead>\n",
              "    <tr style=\"text-align: right;\">\n",
              "      <th></th>\n",
              "      <th>Unnamed: 0</th>\n",
              "      <th>ID</th>\n",
              "      <th>Date</th>\n",
              "      <th>LocationDescription</th>\n",
              "      <th>Arrest</th>\n",
              "      <th>Domestic</th>\n",
              "      <th>Beat</th>\n",
              "      <th>District</th>\n",
              "      <th>CommunityArea</th>\n",
              "      <th>Year</th>\n",
              "    </tr>\n",
              "  </thead>\n",
              "  <tbody>\n",
              "    <tr>\n",
              "      <th>5</th>\n",
              "      <td>5</td>\n",
              "      <td>8950793</td>\n",
              "      <td>December</td>\n",
              "      <td>STREET</td>\n",
              "      <td>True</td>\n",
              "      <td>False</td>\n",
              "      <td>2521</td>\n",
              "      <td>25</td>\n",
              "      <td>19</td>\n",
              "      <td>2012</td>\n",
              "    </tr>\n",
              "    <tr>\n",
              "      <th>8</th>\n",
              "      <td>8</td>\n",
              "      <td>8951802</td>\n",
              "      <td>December</td>\n",
              "      <td>STREET</td>\n",
              "      <td>True</td>\n",
              "      <td>False</td>\n",
              "      <td>1021</td>\n",
              "      <td>10</td>\n",
              "      <td>29</td>\n",
              "      <td>2012</td>\n",
              "    </tr>\n",
              "    <tr>\n",
              "      <th>13</th>\n",
              "      <td>13</td>\n",
              "      <td>8950570</td>\n",
              "      <td>December</td>\n",
              "      <td>GAS STATION</td>\n",
              "      <td>True</td>\n",
              "      <td>False</td>\n",
              "      <td>825</td>\n",
              "      <td>8</td>\n",
              "      <td>66</td>\n",
              "      <td>2012</td>\n",
              "    </tr>\n",
              "    <tr>\n",
              "      <th>47</th>\n",
              "      <td>47</td>\n",
              "      <td>8949895</td>\n",
              "      <td>December</td>\n",
              "      <td>ALLEY</td>\n",
              "      <td>True</td>\n",
              "      <td>False</td>\n",
              "      <td>2512</td>\n",
              "      <td>25</td>\n",
              "      <td>18</td>\n",
              "      <td>2012</td>\n",
              "    </tr>\n",
              "    <tr>\n",
              "      <th>59</th>\n",
              "      <td>59</td>\n",
              "      <td>8949557</td>\n",
              "      <td>December</td>\n",
              "      <td>STREET</td>\n",
              "      <td>True</td>\n",
              "      <td>False</td>\n",
              "      <td>2535</td>\n",
              "      <td>25</td>\n",
              "      <td>23</td>\n",
              "      <td>2012</td>\n",
              "    </tr>\n",
              "  </tbody>\n",
              "</table>\n",
              "</div>"
            ],
            "text/plain": [
              "    Unnamed: 0       ID      Date  ... District  CommunityArea  Year\n",
              "5            5  8950793  December  ...       25             19  2012\n",
              "8            8  8951802  December  ...       10             29  2012\n",
              "13          13  8950570  December  ...        8             66  2012\n",
              "47          47  8949895  December  ...       25             18  2012\n",
              "59          59  8949557  December  ...       25             23  2012\n",
              "\n",
              "[5 rows x 10 columns]"
            ]
          },
          "metadata": {
            "tags": []
          },
          "execution_count": 112
        }
      ]
    },
    {
      "cell_type": "code",
      "metadata": {
        "id": "ou9NyX5V5DRb",
        "colab_type": "code",
        "colab": {
          "base_uri": "https://localhost:8080/",
          "height": 235
        },
        "outputId": "5b48fdd1-c5c5-49ef-b716-8e860d0c1a8b"
      },
      "source": [
        "arrest_data.Date.value_counts()"
      ],
      "execution_count": 113,
      "outputs": [
        {
          "output_type": "execute_result",
          "data": {
            "text/plain": [
              "January      1435\n",
              "December     1397\n",
              "October      1342\n",
              "August       1329\n",
              "July         1324\n",
              "March        1298\n",
              "November     1256\n",
              "April        1252\n",
              "September    1248\n",
              "February     1238\n",
              "June         1230\n",
              "May          1187\n",
              "Name: Date, dtype: int64"
            ]
          },
          "metadata": {
            "tags": []
          },
          "execution_count": 113
        }
      ]
    },
    {
      "cell_type": "code",
      "metadata": {
        "id": "FoGPnpBo5M7A",
        "colab_type": "code",
        "colab": {}
      },
      "source": [
        "year_2001 = df.loc[df['Year'] == 2001]"
      ],
      "execution_count": 0,
      "outputs": []
    },
    {
      "cell_type": "code",
      "metadata": {
        "id": "P70-LEDZ5kdb",
        "colab_type": "code",
        "colab": {
          "base_uri": "https://localhost:8080/",
          "height": 195
        },
        "outputId": "ee3d4a14-14a6-4e9f-d031-5133616e1f50"
      },
      "source": [
        "year_2001.head()"
      ],
      "execution_count": 117,
      "outputs": [
        {
          "output_type": "execute_result",
          "data": {
            "text/html": [
              "<div>\n",
              "<style scoped>\n",
              "    .dataframe tbody tr th:only-of-type {\n",
              "        vertical-align: middle;\n",
              "    }\n",
              "\n",
              "    .dataframe tbody tr th {\n",
              "        vertical-align: top;\n",
              "    }\n",
              "\n",
              "    .dataframe thead th {\n",
              "        text-align: right;\n",
              "    }\n",
              "</style>\n",
              "<table border=\"1\" class=\"dataframe\">\n",
              "  <thead>\n",
              "    <tr style=\"text-align: right;\">\n",
              "      <th></th>\n",
              "      <th>Unnamed: 0</th>\n",
              "      <th>ID</th>\n",
              "      <th>Date</th>\n",
              "      <th>LocationDescription</th>\n",
              "      <th>Arrest</th>\n",
              "      <th>Domestic</th>\n",
              "      <th>Beat</th>\n",
              "      <th>District</th>\n",
              "      <th>CommunityArea</th>\n",
              "      <th>Year</th>\n",
              "    </tr>\n",
              "  </thead>\n",
              "  <tbody>\n",
              "    <tr>\n",
              "      <th>170972</th>\n",
              "      <td>170972</td>\n",
              "      <td>1918000</td>\n",
              "      <td>12/31/01 23:00</td>\n",
              "      <td>STREET</td>\n",
              "      <td>False</td>\n",
              "      <td>False</td>\n",
              "      <td>1531</td>\n",
              "      <td>NaN</td>\n",
              "      <td>NaN</td>\n",
              "      <td>2001</td>\n",
              "    </tr>\n",
              "    <tr>\n",
              "      <th>170973</th>\n",
              "      <td>170973</td>\n",
              "      <td>1919009</td>\n",
              "      <td>12/31/01 23:00</td>\n",
              "      <td>STREET</td>\n",
              "      <td>False</td>\n",
              "      <td>False</td>\n",
              "      <td>1431</td>\n",
              "      <td>NaN</td>\n",
              "      <td>NaN</td>\n",
              "      <td>2001</td>\n",
              "    </tr>\n",
              "    <tr>\n",
              "      <th>170974</th>\n",
              "      <td>170974</td>\n",
              "      <td>1917192</td>\n",
              "      <td>12/31/01 22:40</td>\n",
              "      <td>STREET</td>\n",
              "      <td>True</td>\n",
              "      <td>False</td>\n",
              "      <td>824</td>\n",
              "      <td>NaN</td>\n",
              "      <td>NaN</td>\n",
              "      <td>2001</td>\n",
              "    </tr>\n",
              "    <tr>\n",
              "      <th>170975</th>\n",
              "      <td>170975</td>\n",
              "      <td>1917767</td>\n",
              "      <td>12/31/01 22:15</td>\n",
              "      <td>STREET</td>\n",
              "      <td>False</td>\n",
              "      <td>False</td>\n",
              "      <td>233</td>\n",
              "      <td>NaN</td>\n",
              "      <td>NaN</td>\n",
              "      <td>2001</td>\n",
              "    </tr>\n",
              "    <tr>\n",
              "      <th>170976</th>\n",
              "      <td>170976</td>\n",
              "      <td>1917193</td>\n",
              "      <td>12/31/01 22:15</td>\n",
              "      <td>STREET</td>\n",
              "      <td>False</td>\n",
              "      <td>False</td>\n",
              "      <td>633</td>\n",
              "      <td>NaN</td>\n",
              "      <td>NaN</td>\n",
              "      <td>2001</td>\n",
              "    </tr>\n",
              "  </tbody>\n",
              "</table>\n",
              "</div>"
            ],
            "text/plain": [
              "        Unnamed: 0       ID            Date  ... District  CommunityArea  Year\n",
              "170972      170972  1918000  12/31/01 23:00  ...      NaN            NaN  2001\n",
              "170973      170973  1919009  12/31/01 23:00  ...      NaN            NaN  2001\n",
              "170974      170974  1917192  12/31/01 22:40  ...      NaN            NaN  2001\n",
              "170975      170975  1917767  12/31/01 22:15  ...      NaN            NaN  2001\n",
              "170976      170976  1917193  12/31/01 22:15  ...      NaN            NaN  2001\n",
              "\n",
              "[5 rows x 10 columns]"
            ]
          },
          "metadata": {
            "tags": []
          },
          "execution_count": 117
        }
      ]
    },
    {
      "cell_type": "code",
      "metadata": {
        "id": "RWyugxHt5nGF",
        "colab_type": "code",
        "colab": {
          "base_uri": "https://localhost:8080/",
          "height": 67
        },
        "outputId": "05606d90-aee2-4ed9-bc7e-c91311247939"
      },
      "source": [
        "year_2001.Arrest.value_counts()"
      ],
      "execution_count": 118,
      "outputs": [
        {
          "output_type": "execute_result",
          "data": {
            "text/plain": [
              "False    18517\n",
              "True      2152\n",
              "Name: Arrest, dtype: int64"
            ]
          },
          "metadata": {
            "tags": []
          },
          "execution_count": 118
        }
      ]
    },
    {
      "cell_type": "code",
      "metadata": {
        "id": "4WtH8XUi59tm",
        "colab_type": "code",
        "colab": {}
      },
      "source": [
        "# proportion can be calculated as 2152/(False + True). I didnt do the pandas method. :("
      ],
      "execution_count": 0,
      "outputs": []
    },
    {
      "cell_type": "code",
      "metadata": {
        "id": "t5apegaR6mUS",
        "colab_type": "code",
        "colab": {
          "base_uri": "https://localhost:8080/",
          "height": 195
        },
        "outputId": "8d733e48-169f-4cc0-d1b0-b4076212e6aa"
      },
      "source": [
        "df.head()"
      ],
      "execution_count": 120,
      "outputs": [
        {
          "output_type": "execute_result",
          "data": {
            "text/html": [
              "<div>\n",
              "<style scoped>\n",
              "    .dataframe tbody tr th:only-of-type {\n",
              "        vertical-align: middle;\n",
              "    }\n",
              "\n",
              "    .dataframe tbody tr th {\n",
              "        vertical-align: top;\n",
              "    }\n",
              "\n",
              "    .dataframe thead th {\n",
              "        text-align: right;\n",
              "    }\n",
              "</style>\n",
              "<table border=\"1\" class=\"dataframe\">\n",
              "  <thead>\n",
              "    <tr style=\"text-align: right;\">\n",
              "      <th></th>\n",
              "      <th>Unnamed: 0</th>\n",
              "      <th>ID</th>\n",
              "      <th>Date</th>\n",
              "      <th>LocationDescription</th>\n",
              "      <th>Arrest</th>\n",
              "      <th>Domestic</th>\n",
              "      <th>Beat</th>\n",
              "      <th>District</th>\n",
              "      <th>CommunityArea</th>\n",
              "      <th>Year</th>\n",
              "    </tr>\n",
              "  </thead>\n",
              "  <tbody>\n",
              "    <tr>\n",
              "      <th>0</th>\n",
              "      <td>0</td>\n",
              "      <td>8951354</td>\n",
              "      <td>12/31/12 23:15</td>\n",
              "      <td>STREET</td>\n",
              "      <td>False</td>\n",
              "      <td>False</td>\n",
              "      <td>623</td>\n",
              "      <td>6</td>\n",
              "      <td>69</td>\n",
              "      <td>2012</td>\n",
              "    </tr>\n",
              "    <tr>\n",
              "      <th>1</th>\n",
              "      <td>1</td>\n",
              "      <td>8951141</td>\n",
              "      <td>12/31/12 22:00</td>\n",
              "      <td>STREET</td>\n",
              "      <td>False</td>\n",
              "      <td>False</td>\n",
              "      <td>1213</td>\n",
              "      <td>12</td>\n",
              "      <td>24</td>\n",
              "      <td>2012</td>\n",
              "    </tr>\n",
              "    <tr>\n",
              "      <th>2</th>\n",
              "      <td>2</td>\n",
              "      <td>8952745</td>\n",
              "      <td>12/31/12 22:00</td>\n",
              "      <td>RESIDENTIAL YARD (FRONT/BACK)</td>\n",
              "      <td>False</td>\n",
              "      <td>False</td>\n",
              "      <td>1622</td>\n",
              "      <td>16</td>\n",
              "      <td>11</td>\n",
              "      <td>2012</td>\n",
              "    </tr>\n",
              "    <tr>\n",
              "      <th>3</th>\n",
              "      <td>3</td>\n",
              "      <td>8952223</td>\n",
              "      <td>12/31/12 22:00</td>\n",
              "      <td>STREET</td>\n",
              "      <td>False</td>\n",
              "      <td>False</td>\n",
              "      <td>724</td>\n",
              "      <td>7</td>\n",
              "      <td>67</td>\n",
              "      <td>2012</td>\n",
              "    </tr>\n",
              "    <tr>\n",
              "      <th>4</th>\n",
              "      <td>4</td>\n",
              "      <td>8951608</td>\n",
              "      <td>12/31/12 21:30</td>\n",
              "      <td>STREET</td>\n",
              "      <td>False</td>\n",
              "      <td>False</td>\n",
              "      <td>211</td>\n",
              "      <td>2</td>\n",
              "      <td>35</td>\n",
              "      <td>2012</td>\n",
              "    </tr>\n",
              "  </tbody>\n",
              "</table>\n",
              "</div>"
            ],
            "text/plain": [
              "   Unnamed: 0       ID            Date  ... District  CommunityArea  Year\n",
              "0           0  8951354  12/31/12 23:15  ...        6             69  2012\n",
              "1           1  8951141  12/31/12 22:00  ...       12             24  2012\n",
              "2           2  8952745  12/31/12 22:00  ...       16             11  2012\n",
              "3           3  8952223  12/31/12 22:00  ...        7             67  2012\n",
              "4           4  8951608  12/31/12 21:30  ...        2             35  2012\n",
              "\n",
              "[5 rows x 10 columns]"
            ]
          },
          "metadata": {
            "tags": []
          },
          "execution_count": 120
        }
      ]
    },
    {
      "cell_type": "code",
      "metadata": {
        "id": "kI-G-y326vEW",
        "colab_type": "code",
        "colab": {}
      },
      "source": [
        "df['Date'] = pd.to_datetime(df['Date'])"
      ],
      "execution_count": 0,
      "outputs": []
    },
    {
      "cell_type": "code",
      "metadata": {
        "id": "hx_pd8cr6-o4",
        "colab_type": "code",
        "colab": {}
      },
      "source": [
        "df['Date'] = df.Date.sort_values()"
      ],
      "execution_count": 0,
      "outputs": []
    },
    {
      "cell_type": "code",
      "metadata": {
        "id": "VEPsTTom7HBi",
        "colab_type": "code",
        "colab": {
          "base_uri": "https://localhost:8080/",
          "height": 34
        },
        "outputId": "90f4b901-1145-45a3-e5ec-edc8192b7da2"
      },
      "source": [
        "df.Date.iloc[191642//2]"
      ],
      "execution_count": 131,
      "outputs": [
        {
          "output_type": "execute_result",
          "data": {
            "text/plain": [
              "Timestamp('2006-05-21 12:00:00')"
            ]
          },
          "metadata": {
            "tags": []
          },
          "execution_count": 131
        }
      ]
    },
    {
      "cell_type": "code",
      "metadata": {
        "id": "7sUodN9z7nnw",
        "colab_type": "code",
        "colab": {}
      },
      "source": [
        "# Median date is May 21st 2006"
      ],
      "execution_count": 0,
      "outputs": []
    }
  ]
}